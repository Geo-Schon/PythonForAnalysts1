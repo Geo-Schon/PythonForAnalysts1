{
 "cells": [
  {
   "cell_type": "markdown",
   "id": "c0dfa33e-835b-49f2-b668-315a9921c2ba",
   "metadata": {},
   "source": [
    "## Задача 1\r\n",
    "Оформляйте ноутбук, используя эти советы:\n",
    "\r\n",
    "Номер задачи - заголовок 2\r\n",
    "Номер подзадачи - заголовок 3\r\n",
    "Предоставленные наборы данных оформляйте, как код"
   ]
  },
  {
   "cell_type": "markdown",
   "id": "9fe3fefb-5ecc-4355-b9dd-6b83da2f6ff6",
   "metadata": {},
   "source": [
    "## Задача 2\r\n",
    "На складе лежат разные фрукты в разном количестве. Нужно написать функцию, которая на вход принимает любое количество названий фруктов и их количество, а возвращает общее количество фруктов на складе, при помощи использования kwargs"
   ]
  },
  {
   "cell_type": "code",
   "execution_count": 28,
   "id": "6c5356e5-a601-4300-9ff5-5ffa847e3583",
   "metadata": {},
   "outputs": [],
   "source": [
    "def fruits(**kwargs):\n",
    "    total_fruits = sum(kwargs.values())\n",
    "    return f'Всего фруктов: {total_fruits}'"
   ]
  },
  {
   "cell_type": "code",
   "execution_count": 29,
   "id": "c95a37b7-85de-482b-8866-0384a624bb73",
   "metadata": {},
   "outputs": [
    {
     "name": "stdout",
     "output_type": "stream",
     "text": [
      "Всего фруктов: 20\n"
     ]
    }
   ],
   "source": [
    "print(fruits(ananas=5, bananas=8, mangos=7))"
   ]
  },
  {
   "cell_type": "markdown",
   "id": "20464f2e-0227-4a23-b20d-06d40e067bda",
   "metadata": {},
   "source": [
    "## Задача 3\n",
    "Дан список с затратами на рекламу. Но в данных есть ошибки, некоторые затраты имеют отрицательную величину. Удалите такие значения из списка и посчитайте суммарные затраты\n",
    "[100, 125, -90, 345, 655, -1, 0, 200]\n",
    "Используйте list comprehensions"
   ]
  },
  {
   "cell_type": "code",
   "execution_count": 30,
   "id": "cc78aade-0fb9-406a-9af8-3bf0e6886dbe",
   "metadata": {},
   "outputs": [],
   "source": [
    "def expenses(old_expenses_list: list):\n",
    "    new_expenses_list = []\n",
    "    for i in old_expenses_list:\n",
    "        if i > 0:\n",
    "            new_expenses_list.append(i)\n",
    "    print(f'Суммарные затраты: {sum(new_expenses_list)}')"
   ]
  },
  {
   "cell_type": "code",
   "execution_count": 31,
   "id": "47962f44-1db3-4cff-9eac-f227fe2f3555",
   "metadata": {},
   "outputs": [
    {
     "name": "stdout",
     "output_type": "stream",
     "text": [
      "Суммарные затраты: 1425\n"
     ]
    }
   ],
   "source": [
    "old_expenses_list = [100, 125, -90, 345, 655, -1, 0, 200]\n",
    "expenses(old_expenses_list)"
   ]
  },
  {
   "cell_type": "code",
   "execution_count": 32,
   "id": "3ff7855e-ba61-46d7-9356-cba3f3e277da",
   "metadata": {},
   "outputs": [
    {
     "name": "stdout",
     "output_type": "stream",
     "text": [
      "Суммарные затраты: 1425\n"
     ]
    }
   ],
   "source": [
    "print(f'Суммарные затраты: {sum([i for i in old_expenses_list if i > 0 ])}')"
   ]
  },
  {
   "cell_type": "markdown",
   "id": "a0cc28c5-8cba-43a5-a46e-a4d76792c580",
   "metadata": {},
   "source": [
    "## Задача 4\n",
    "Даны два списка.\n",
    "Дата покупки\n",
    "['2021-09-14', '2021-12-15', '2021-09-08', '2021-12-05', '2021-10-09', '2021-09-30', '2021-12-22', '2021-11-29', '2021-12-24', '2021-11-26', '2021-10-27', '2021-12-18', '2021-11-09', '2021-11-23', '2021-09-27', '2021-10-02', '2021-12-27', '2021-09-20', '2021-12-13', '2021-11-01', '2021-11-09', '2021-12-06', '2021-12-08', '2021-10-09', '2021-10-31', '2021-09-30', '2021-11-09', '2021-12-13', '2021-10-26', '2021-12-09']\n",
    "Суммы покупок по датам\n",
    "[1270, 8413, 9028, 3703, 5739, 4095, 295, 4944, 5723, 3701, 4471, 651, 7037, 4274, 6275, 4988, 6930, 2971, 6592, 2004, 2822, 519, 3406, 2732, 5015, 2008, 316, 6333, 5700, 2887]"
   ]
  },
  {
   "cell_type": "markdown",
   "id": "935d2344-4402-4c15-a7fb-f529f1966d62",
   "metadata": {},
   "source": [
    "### Задача 4.1\n",
    "Найдите, какая выручка у компании в ноябре\n",
    "Используйте list comprehensions"
   ]
  },
  {
   "cell_type": "code",
   "execution_count": 49,
   "id": "7e7265d3-2ead-47fc-b27f-d6c31e572835",
   "metadata": {},
   "outputs": [],
   "source": [
    "date = ['2021-09-14', '2021-12-15', '2021-09-08', '2021-12-05', '2021-10-09', '2021-09-30', '2021-12-22', '2021-11-29', '2021-12-24', '2021-11-26', \n",
    "        '2021-10-27', '2021-12-18', '2021-11-09', '2021-11-23', '2021-09-27', '2021-10-02', '2021-12-27', '2021-09-20', '2021-12-13', '2021-11-01', \n",
    "        '2021-11-09', '2021-12-06', '2021-12-08', '2021-10-09', '2021-10-31', '2021-09-30', '2021-11-09', '2021-12-13', '2021-10-26', '2021-12-09']\n",
    "cost = [1270, 8413, 9028, 3703, 5739, 4095, 295, 4944, 5723, 3701, 4471, 651, 7037, 4274, 6275, 4988, 6930, 2971, 6592, 2004, \n",
    "        2822, 519, 3406, 2732, 5015, 2008, 316, 6333, 5700, 2887]"
   ]
  },
  {
   "cell_type": "code",
   "execution_count": 50,
   "id": "e98fee66-0b6d-4c66-be36-f1c8adb97633",
   "metadata": {},
   "outputs": [],
   "source": [
    "def november_revenue(date_list: list, cost_list: list) -> list:\n",
    "    revenue_list = []\n",
    "    for i in range(len(date_list)-1):\n",
    "        if '-11-' in date_list[i]:\n",
    "            revenue_list.append(cost_list[i])\n",
    "    return revenue_list"
   ]
  },
  {
   "cell_type": "code",
   "execution_count": 51,
   "id": "5052a425-3f3c-414f-8de4-77d88eafdacc",
   "metadata": {},
   "outputs": [
    {
     "name": "stdout",
     "output_type": "stream",
     "text": [
      "Выручка за ноябрь: 25098\n"
     ]
    }
   ],
   "source": [
    "print(f'Выручка за ноябрь: {sum([cost[i] for i in range(len(date)-1) if \"-11\" in date[i]])}')"
   ]
  },
  {
   "cell_type": "markdown",
   "id": "090526aa-b48d-437b-a288-7ccf353f6e29",
   "metadata": {},
   "source": [
    "### Задача 4.2\n",
    "Найдите выручку компании в зависимости от месяца\n",
    "Для этого напишите функцию, которая на вход принимает список с датами и список с выручкой, а на выходе словарь, где ключи - это месяцы, а значения - это выручка.\n",
    "Используйте аннотирование типов."
   ]
  },
  {
   "cell_type": "code",
   "execution_count": 65,
   "id": "abf0ea7a-656b-4a3f-b854-12437dc7e4fc",
   "metadata": {},
   "outputs": [],
   "source": [
    "def revenue(date_list: list, cost_list: list) -> dict:\n",
    "    revenue_dict = {}\n",
    "    for i in range(len(date_list)):\n",
    "        if date[i].split('-')[1] in revenue_dict.keys():\n",
    "            revenue_dict[date[i].split('-')[1]] += cost[i]\n",
    "        else:\n",
    "            revenue_dict[date[i].split('-')[1]] = cost[i]\n",
    "    return revenue_dict"
   ]
  },
  {
   "cell_type": "code",
   "execution_count": 66,
   "id": "b3aa156e-3b21-489f-9048-e86d4111989b",
   "metadata": {},
   "outputs": [
    {
     "name": "stdout",
     "output_type": "stream",
     "text": [
      "{'09': 25647, '12': 45452, '10': 28645, '11': 25098}\n"
     ]
    }
   ],
   "source": [
    "print(revenue(date, cost))"
   ]
  }
 ],
 "metadata": {
  "kernelspec": {
   "display_name": "Python 3 (ipykernel)",
   "language": "python",
   "name": "python3"
  },
  "language_info": {
   "codemirror_mode": {
    "name": "ipython",
    "version": 3
   },
   "file_extension": ".py",
   "mimetype": "text/x-python",
   "name": "python",
   "nbconvert_exporter": "python",
   "pygments_lexer": "ipython3",
   "version": "3.11.0"
  }
 },
 "nbformat": 4,
 "nbformat_minor": 5
}
